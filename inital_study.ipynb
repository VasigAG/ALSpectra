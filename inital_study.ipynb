{
 "cells": [
  {
   "cell_type": "code",
   "execution_count": 2,
   "id": "a365eb11",
   "metadata": {},
   "outputs": [],
   "source": [
    "# all the packlages to be imported \n",
    "import pandas as pd\n",
    "import numpy as np\n",
    "import matplotlib.pyplot as plt\n",
    "\n",
    "import torch\n",
    "import torchaudio as ta\n",
    "\n",
    "from scipy.io import wavfile\n",
    "import scipy"
   ]
  },
  {
   "cell_type": "code",
   "execution_count": 15,
   "id": "cfa45553",
   "metadata": {},
   "outputs": [
    {
     "data": {
      "application/vnd.microsoft.datawrangler.viewer.v0+json": {
       "columns": [
        {
         "name": "index",
         "rawType": "int64",
         "type": "integer"
        },
        {
         "name": "ID",
         "rawType": "object",
         "type": "string"
        },
        {
         "name": "Age",
         "rawType": "int64",
         "type": "integer"
        },
        {
         "name": "Sex",
         "rawType": "object",
         "type": "string"
        },
        {
         "name": "Class",
         "rawType": "int64",
         "type": "integer"
        }
       ],
       "ref": "55a5b6dc-3b57-48c1-8280-be21a777810d",
       "rows": [
        [
         "0",
         "ID000",
         "80",
         "M",
         "5"
        ],
        [
         "1",
         "ID001",
         "61",
         "F",
         "5"
        ],
        [
         "2",
         "ID002",
         "51",
         "F",
         "4"
        ],
        [
         "3",
         "ID003",
         "59",
         "M",
         "3"
        ],
        [
         "4",
         "ID005",
         "80",
         "F",
         "5"
        ],
        [
         "5",
         "ID006",
         "73",
         "M",
         "5"
        ],
        [
         "6",
         "ID007",
         "72",
         "M",
         "3"
        ],
        [
         "7",
         "ID008",
         "52",
         "F",
         "5"
        ],
        [
         "8",
         "ID009",
         "51",
         "F",
         "3"
        ],
        [
         "9",
         "ID010",
         "57",
         "M",
         "4"
        ],
        [
         "10",
         "ID012",
         "60",
         "F",
         "5"
        ],
        [
         "11",
         "ID013",
         "69",
         "F",
         "5"
        ],
        [
         "12",
         "ID015",
         "54",
         "F",
         "5"
        ],
        [
         "13",
         "ID016",
         "50",
         "F",
         "3"
        ],
        [
         "14",
         "ID017",
         "48",
         "F",
         "2"
        ],
        [
         "15",
         "ID018",
         "80",
         "F",
         "2"
        ],
        [
         "16",
         "ID021",
         "50",
         "F",
         "5"
        ],
        [
         "17",
         "ID023",
         "61",
         "F",
         "4"
        ],
        [
         "18",
         "ID024",
         "61",
         "F",
         "4"
        ],
        [
         "19",
         "ID025",
         "40",
         "M",
         "4"
        ],
        [
         "20",
         "ID026",
         "70",
         "M",
         "3"
        ],
        [
         "21",
         "ID027",
         "78",
         "M",
         "4"
        ],
        [
         "22",
         "ID028",
         "68",
         "M",
         "5"
        ],
        [
         "23",
         "ID029",
         "56",
         "M",
         "4"
        ],
        [
         "24",
         "ID030",
         "80",
         "F",
         "2"
        ],
        [
         "25",
         "ID033",
         "61",
         "F",
         "4"
        ],
        [
         "26",
         "ID034",
         "76",
         "F",
         "5"
        ],
        [
         "27",
         "ID035",
         "58",
         "F",
         "5"
        ],
        [
         "28",
         "ID036",
         "51",
         "F",
         "4"
        ],
        [
         "29",
         "ID037",
         "40",
         "M",
         "5"
        ],
        [
         "30",
         "ID038",
         "69",
         "F",
         "4"
        ],
        [
         "31",
         "ID040",
         "65",
         "M",
         "3"
        ],
        [
         "32",
         "ID041",
         "65",
         "M",
         "4"
        ],
        [
         "33",
         "ID042",
         "51",
         "M",
         "4"
        ],
        [
         "34",
         "ID046",
         "71",
         "F",
         "3"
        ],
        [
         "35",
         "ID047",
         "76",
         "M",
         "5"
        ],
        [
         "36",
         "ID048",
         "59",
         "M",
         "3"
        ],
        [
         "37",
         "ID049",
         "51",
         "F",
         "2"
        ],
        [
         "38",
         "ID050",
         "73",
         "F",
         "2"
        ],
        [
         "39",
         "ID051",
         "64",
         "F",
         "3"
        ],
        [
         "40",
         "ID052",
         "78",
         "F",
         "3"
        ],
        [
         "41",
         "ID053",
         "59",
         "F",
         "2"
        ],
        [
         "42",
         "ID054",
         "55",
         "M",
         "5"
        ],
        [
         "43",
         "ID056",
         "49",
         "M",
         "3"
        ],
        [
         "44",
         "ID057",
         "61",
         "F",
         "5"
        ],
        [
         "45",
         "ID058",
         "53",
         "F",
         "4"
        ],
        [
         "46",
         "ID059",
         "60",
         "M",
         "4"
        ],
        [
         "47",
         "ID060",
         "50",
         "M",
         "4"
        ],
        [
         "48",
         "ID061",
         "72",
         "F",
         "5"
        ],
        [
         "49",
         "ID063",
         "63",
         "F",
         "4"
        ]
       ],
       "shape": {
        "columns": 4,
        "rows": 272
       }
      },
      "text/html": [
       "<div>\n",
       "<style scoped>\n",
       "    .dataframe tbody tr th:only-of-type {\n",
       "        vertical-align: middle;\n",
       "    }\n",
       "\n",
       "    .dataframe tbody tr th {\n",
       "        vertical-align: top;\n",
       "    }\n",
       "\n",
       "    .dataframe thead th {\n",
       "        text-align: right;\n",
       "    }\n",
       "</style>\n",
       "<table border=\"1\" class=\"dataframe\">\n",
       "  <thead>\n",
       "    <tr style=\"text-align: right;\">\n",
       "      <th></th>\n",
       "      <th>ID</th>\n",
       "      <th>Age</th>\n",
       "      <th>Sex</th>\n",
       "      <th>Class</th>\n",
       "    </tr>\n",
       "  </thead>\n",
       "  <tbody>\n",
       "    <tr>\n",
       "      <th>0</th>\n",
       "      <td>ID000</td>\n",
       "      <td>80</td>\n",
       "      <td>M</td>\n",
       "      <td>5</td>\n",
       "    </tr>\n",
       "    <tr>\n",
       "      <th>1</th>\n",
       "      <td>ID001</td>\n",
       "      <td>61</td>\n",
       "      <td>F</td>\n",
       "      <td>5</td>\n",
       "    </tr>\n",
       "    <tr>\n",
       "      <th>2</th>\n",
       "      <td>ID002</td>\n",
       "      <td>51</td>\n",
       "      <td>F</td>\n",
       "      <td>4</td>\n",
       "    </tr>\n",
       "    <tr>\n",
       "      <th>3</th>\n",
       "      <td>ID003</td>\n",
       "      <td>59</td>\n",
       "      <td>M</td>\n",
       "      <td>3</td>\n",
       "    </tr>\n",
       "    <tr>\n",
       "      <th>4</th>\n",
       "      <td>ID005</td>\n",
       "      <td>80</td>\n",
       "      <td>F</td>\n",
       "      <td>5</td>\n",
       "    </tr>\n",
       "    <tr>\n",
       "      <th>...</th>\n",
       "      <td>...</td>\n",
       "      <td>...</td>\n",
       "      <td>...</td>\n",
       "      <td>...</td>\n",
       "    </tr>\n",
       "    <tr>\n",
       "      <th>267</th>\n",
       "      <td>ID333</td>\n",
       "      <td>76</td>\n",
       "      <td>M</td>\n",
       "      <td>4</td>\n",
       "    </tr>\n",
       "    <tr>\n",
       "      <th>268</th>\n",
       "      <td>ID335</td>\n",
       "      <td>64</td>\n",
       "      <td>M</td>\n",
       "      <td>4</td>\n",
       "    </tr>\n",
       "    <tr>\n",
       "      <th>269</th>\n",
       "      <td>ID336</td>\n",
       "      <td>71</td>\n",
       "      <td>F</td>\n",
       "      <td>5</td>\n",
       "    </tr>\n",
       "    <tr>\n",
       "      <th>270</th>\n",
       "      <td>ID337</td>\n",
       "      <td>57</td>\n",
       "      <td>F</td>\n",
       "      <td>5</td>\n",
       "    </tr>\n",
       "    <tr>\n",
       "      <th>271</th>\n",
       "      <td>ID338</td>\n",
       "      <td>42</td>\n",
       "      <td>F</td>\n",
       "      <td>4</td>\n",
       "    </tr>\n",
       "  </tbody>\n",
       "</table>\n",
       "<p>272 rows × 4 columns</p>\n",
       "</div>"
      ],
      "text/plain": [
       "        ID  Age Sex  Class\n",
       "0    ID000   80   M      5\n",
       "1    ID001   61   F      5\n",
       "2    ID002   51   F      4\n",
       "3    ID003   59   M      3\n",
       "4    ID005   80   F      5\n",
       "..     ...  ...  ..    ...\n",
       "267  ID333   76   M      4\n",
       "268  ID335   64   M      4\n",
       "269  ID336   71   F      5\n",
       "270  ID337   57   F      5\n",
       "271  ID338   42   F      4\n",
       "\n",
       "[272 rows x 4 columns]"
      ]
     },
     "execution_count": 15,
     "metadata": {},
     "output_type": "execute_result"
    }
   ],
   "source": [
    "# creating a pandas dataframe to store the patients data\n",
    "patient_data = pd.read_excel(\"task1/sand_task_1.xlsx\")\n",
    "patient_data"
   ]
  },
  {
   "cell_type": "code",
   "execution_count": null,
   "id": "2ff1d136",
   "metadata": {},
   "outputs": [],
   "source": [
    "# contains ID, Age, Sex, Class\n",
    "# ALSFRS-R score, an integer value from 0 to 4 for ALS patients, or a value of 5 for the healthy subjects.\n",
    "# 4 is good functioning, 1 is really bad\n",
    "# preprocessing signal class\n",
    "\n",
    "patient_data = pd.read_excel(\"task1/sand_task_1.xlsx\")\n",
    "\n",
    "class signal:\n",
    "\n",
    "    patient_data = pd.read_excel(\"task1/sand_task_1.xlsx\")\n",
    "\n",
    "    def __init__(self,id,sound):\n",
    "        self.a = wavfile.read(f\"task1/training/phonationA/{id}_phonation{sound}.wav\") # (int:sample_rate, np.array:waveform)\n",
    "        (self.sample_rate,self.wav) = self.a\n",
    "        self.clas = int(patient_data[\"Class\"][np.where(patient_data[\"ID\"] == id)[0]].iloc[0])\n",
    "\n",
    "    def plot_fft(self):\n",
    "        # sample_rate,waveform = self.a\n",
    "        fft_ = scipy.fft.fft(self.wav)\n",
    "        len_ = len(self.wav)\n",
    "        fft_mag = abs(fft_)\n",
    "        freq_buckets = np.linspace(0,self.sample_rate,len(fft_))\n",
    "        plt.plot(freq_buckets,fft_mag)\n",
    "    \n",
    "    def get_fft(self):\n",
    "        fft_ = scipy.fft.fft(self.wav)\n",
    "        len_ = len(self.wav)\n",
    "        fft_mag = abs(fft_)\n",
    "        freq_buckets = np.linspace(0,self.sample_rate,len_)\n",
    "        return fft_\n",
    "\n",
    "    def __len__(self):\n",
    "        return len(self.wav)"
   ]
  },
  {
   "cell_type": "code",
   "execution_count": 61,
   "id": "51873d4c",
   "metadata": {},
   "outputs": [],
   "source": [
    "ID000 = signal(\"ID200\")\n",
    "ID007 = signal(\"ID001\")"
   ]
  },
  {
   "cell_type": "code",
   "execution_count": null,
   "id": "10276e5a",
   "metadata": {},
   "outputs": [
    {
     "data": {
      "text/plain": [
       "5"
      ]
     },
     "execution_count": 63,
     "metadata": {},
     "output_type": "execute_result"
    }
   ],
   "source": []
  },
  {
   "cell_type": "code",
   "execution_count": null,
   "id": "05a30c47",
   "metadata": {},
   "outputs": [],
   "source": [
    "scipy.signal.correlate(get_fft)"
   ]
  }
 ],
 "metadata": {
  "kernelspec": {
   "display_name": "venv",
   "language": "python",
   "name": "python3"
  },
  "language_info": {
   "codemirror_mode": {
    "name": "ipython",
    "version": 3
   },
   "file_extension": ".py",
   "mimetype": "text/x-python",
   "name": "python",
   "nbconvert_exporter": "python",
   "pygments_lexer": "ipython3",
   "version": "3.13.5"
  }
 },
 "nbformat": 4,
 "nbformat_minor": 5
}
