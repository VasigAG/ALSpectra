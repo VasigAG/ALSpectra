{
 "cells": [
  {
   "cell_type": "code",
   "execution_count": 10,
   "id": "6f7d73bc",
   "metadata": {},
   "outputs": [],
   "source": [
    "from data_processor import *"
   ]
  },
  {
   "cell_type": "code",
   "execution_count": 13,
   "id": "03d3768f",
   "metadata": {},
   "outputs": [
    {
     "data": {
      "text/plain": [
       "array([  0,   0,   0, ..., -54, -16, -33], shape=(123520,), dtype=int16)"
      ]
     },
     "execution_count": 13,
     "metadata": {},
     "output_type": "execute_result"
    }
   ],
   "source": [
    "signal(\"ID120\",\"A\").wav"
   ]
  }
 ],
 "metadata": {
  "kernelspec": {
   "display_name": "venv",
   "language": "python",
   "name": "python3"
  },
  "language_info": {
   "codemirror_mode": {
    "name": "ipython",
    "version": 3
   },
   "file_extension": ".py",
   "mimetype": "text/x-python",
   "name": "python",
   "nbconvert_exporter": "python",
   "pygments_lexer": "ipython3",
   "version": "3.13.5"
  }
 },
 "nbformat": 4,
 "nbformat_minor": 5
}
